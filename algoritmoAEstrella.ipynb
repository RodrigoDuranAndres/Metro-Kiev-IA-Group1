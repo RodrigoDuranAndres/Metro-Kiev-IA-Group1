{
 "cells": [
  {
   "cell_type": "code",
   "execution_count": 14,
   "id": "712c5134",
   "metadata": {},
   "outputs": [],
   "source": [
    "import numpy as np\n",
    "import pandas as pd\n",
    "\n",
    "from typing import List\n",
    "from queries import GET_CONEXION\n",
    "import sqlite3"
   ]
  },
  {
   "cell_type": "code",
   "execution_count": 127,
   "id": "ab1d3575",
   "metadata": {},
   "outputs": [],
   "source": [
    "df_estaciones = pd.read_csv('./data/estaciones.csv', sep=\";\")\n",
    "tabla = np.loadtxt('./data/tabla.csv', delimiter=\",\")\n",
    "conn = sqlite3.connect(\"./data/estaciones.db\")\n",
    "cursor = conn.cursor()"
   ]
  },
  {
   "cell_type": "code",
   "execution_count": 129,
   "id": "a803f845",
   "metadata": {},
   "outputs": [],
   "source": [
    "def heuristica(node: int, destino: int) -> float:\n",
    "    numeroNode = df_estaciones.loc[df_estaciones['ID'] == node].index[0]\n",
    "    numeroDestino = df_estaciones.loc[df_estaciones['ID'] == destino].index[0]\n",
    "    return tabla[numeroNode, numeroDestino]"
   ]
  },
  {
   "cell_type": "code",
   "execution_count": 259,
   "id": "83423570",
   "metadata": {},
   "outputs": [],
   "source": [
    "def busqueda_camino(cursor, inicio, destino, hora=0) -> List[str]:\n",
    "    # TODO Implementar el algoritmo de A* para que devuelva el camino más corto\n",
    "    # NOTA: lo de **kwargs es para añadir más parámetro por si queremos ajustarlo a \n",
    "    # la hora del día u otra cosa.\n",
    "    \n",
    "    abierta = []\n",
    "    cerrada = []\n",
    "    \n",
    "    if destino == inicio:\n",
    "        return [(inicio, 0)]\n",
    "    for d in cursor.execute(\"SELECT destino from conexiones where origen==?\", [inicio]):\n",
    "        if d[0] == destino:\n",
    "            return [inicio, (destino, heuristica(inicio, d[0]))]\n",
    "        else:\n",
    "            gpeso = heuristica(inicio, d[0])\n",
    "            hpeso = heuristica(d[0], destino)\n",
    "            abierta += [(d[0], gpeso, hpeso, gpeso + hpeso, [inicio, d[0]])]\n",
    "    \n",
    "    encontrado = False\n",
    "    while not encontrado:\n",
    "        abierta.sort(key = lambda x: x[3]) \n",
    "        analizando = abierta.pop(0)\n",
    "        cerrada.append(analizando[0])\n",
    "        print([analizando[0], analizando[4][-2]])\n",
    "        for adyacente in cursor.execute(\"SELECT destino from conexiones where origen==? AND destino != ?\",\n",
    "                                        [analizando[0], analizando[4][-2]]):\n",
    "            lbool = list(map(lambda x: x[0] == adyacente[0], abierta))\n",
    "            gpeso = analizando[1] + heuristica(analizando[0], adyacente[0])\n",
    "            hpeso = heuristica(adyacente[0], destino)\n",
    "            if adyacente[0] == destino:\n",
    "                return analizando[4] + [(destino, analizando[1] + heuristica(analizando[0], destino))]\n",
    "            elif adyacente[0] in cerrada:\n",
    "                pass\n",
    "            elif max(lbool):\n",
    "                indice = lbool.index(True)\n",
    "                if abierta[indice][1] < gpeso:\n",
    "                    abierta[indice] = [(adyacente[0], gpeso, hpeso, gpeso+hpeso,\n",
    "                                       analizando[4] + [adyacente[0]])]\n",
    "            else:\n",
    "                abierta += [(adyacente[0], gpeso, hpeso, gpeso+hpeso, analizando[4] + [adyacente[0]])]\n",
    "    return cerrada"
   ]
  },
  {
   "cell_type": "code",
   "execution_count": 261,
   "id": "363c98d6",
   "metadata": {},
   "outputs": [
    {
     "name": "stdout",
     "output_type": "stream",
     "text": [
      "[114, 113]\n",
      "[115, 114]\n",
      "[116, 115]\n",
      "[117, 116]\n",
      "[118, 117]\n",
      "[119, 118]\n",
      "[314, 119]\n",
      "[315, 314]\n"
     ]
    },
    {
     "data": {
      "text/plain": [
       "[113, 114, 115, 116, 117, 118, 119, 314, 315, (218, 15.447690139709714)]"
      ]
     },
     "execution_count": 261,
     "metadata": {},
     "output_type": "execute_result"
    }
   ],
   "source": [
    "busqueda_camino(cursor, 113, 218)"
   ]
  },
  {
   "cell_type": "code",
   "execution_count": 242,
   "id": "0d17603c",
   "metadata": {},
   "outputs": [
    {
     "data": {
      "text/plain": [
       "0.18958026016602958"
      ]
     },
     "execution_count": 242,
     "metadata": {},
     "output_type": "execute_result"
    }
   ],
   "source": [
    "heuristica(119, 314)"
   ]
  },
  {
   "cell_type": "code",
   "execution_count": 253,
   "id": "d9b8adf2",
   "metadata": {},
   "outputs": [],
   "source": [
    "# metodo 2 por si hay que cambiar algo\n",
    "def busqueda_camino2(cursor, inicio, destino, hora=0) -> List[str]:\n",
    "    # TODO Implementar el algoritmo de A* para que devuelva el camino más corto\n",
    "    # NOTA: lo de **kwargs es para añadir más parámetro por si queremos ajustarlo a \n",
    "    # la hora del día u otra cosa.\n",
    "    \n",
    "    abierta = []\n",
    "    cerrada = []\n",
    "    \n",
    "    if destino == inicio:\n",
    "        return [(inicio, 0)]\n",
    "    for d in cursor.execute(\"SELECT destino from conexiones where origen==?\", [inicio]):\n",
    "        if d[0] == destino:\n",
    "            return [(inicio, 0), (destino, heuristica(inicio, d[0]))]\n",
    "        else:\n",
    "            gpeso = heuristica(inicio, d[0])\n",
    "            hpeso = heuristica(d[0], destino)\n",
    "            abierta += [(d[0], gpeso, hpeso, gpeso + hpeso, [(inicio, 0), (d[0], heuristica(inicio, d[0]))])]\n",
    "    \n",
    "    encontrado = False\n",
    "    while not encontrado:\n",
    "        abierta.sort(key = lambda x: x[3]) \n",
    "        analizando = abierta.pop(0)\n",
    "        cerrada.append(analizando[0])\n",
    "        for adyacente in cursor.execute(\"SELECT destino from conexiones where origen==? AND destino != ?\",\n",
    "                                        [analizando[0], analizando[4][-2][0]]):\n",
    "            lbool = list(map(lambda x: x[0] == adyacente[0], abierta))\n",
    "            gpeso = analizando[1] + heuristica(analizando[0], adyacente[0])\n",
    "            hpeso = heuristica(adyacente[0], destino)\n",
    "            if adyacente[0] == destino:\n",
    "                return analizando[4] + [(destino, analizando[1] + heuristica(analizando[0], destino))]\n",
    "            elif adyacente[0] in cerrada:\n",
    "                pass\n",
    "            elif max(lbool):\n",
    "                indice = lbool.index(True)\n",
    "                if abierta[indice][1] < gpeso:\n",
    "                    abierta[indice] = [(adyacente[0], gpeso, hpeso, gpeso+hpeso,\n",
    "                                       analizando[4] + [(adyacente[0], gpeso)])]\n",
    "            else:\n",
    "                abierta += [(adyacente[0], gpeso, hpeso, gpeso+hpeso, analizando[4] + [(adyacente[0], gpeso)])]\n",
    "    return cerrada"
   ]
  },
  {
   "cell_type": "code",
   "execution_count": null,
   "id": "9845d9f1",
   "metadata": {},
   "outputs": [],
   "source": []
  }
 ],
 "metadata": {
  "kernelspec": {
   "display_name": "Python 3",
   "language": "python",
   "name": "python3"
  },
  "language_info": {
   "codemirror_mode": {
    "name": "ipython",
    "version": 3
   },
   "file_extension": ".py",
   "mimetype": "text/x-python",
   "name": "python",
   "nbconvert_exporter": "python",
   "pygments_lexer": "ipython3",
   "version": "3.8.8"
  }
 },
 "nbformat": 4,
 "nbformat_minor": 5
}
